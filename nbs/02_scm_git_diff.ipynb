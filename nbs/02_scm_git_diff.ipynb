{
 "cells": [
  {
   "cell_type": "markdown",
   "metadata": {},
   "source": [
    "We want to find a representative file that was updated for Quarkus which we can use for an example\n",
    "Consider:  \n",
    "* https://github.com/mathianasj/eap-coolstore-monolith/blob/quarkus-migration/src/main/java/com/redhat/coolstore/service/InventoryNotificationMDB.java\n",
    "* https://github.com/mathianasj/eap-coolstore-monolith/blob/quarkus-migration/src/main/java/com/redhat/coolstore/service/OrderServiceMDB.java\n",
    "\n",
    "The larger idea we are working towards is:\n",
    "1) Find a file which has been changed and get the original + diff\n",
    "2) Find a similar file we need to update, and get the original of that file\n",
    "3) Send a request to LLM and see how well it does with a patch\n",
    "4) Compare it to the diff we have"
   ]
  },
  {
   "cell_type": "markdown",
   "metadata": {},
   "source": [
    "Documentation for library: https://gitpython.readthedocs.io/en/stable/quickstart.html#trees-blobs\n",
    "\n",
    "We want to learn how to generate a patch from a diff.\n",
    "Reading API docs at: https://gitpython.readthedocs.io/en/stable/reference.html#module-git.diff\n",
    "\n",
    "Assume 'create_patch' will help.\n",
    "\n",
    "`create_patch – If True, the returned Diff contains a detailed patch that if applied makes the self to other. Patches are somewhat costly as blobs have to be read and diffed.`"
   ]
  },
  {
   "cell_type": "markdown",
   "metadata": {},
   "source": [
    "Looking at this git history: \n",
    "* https://github.com/mathianasj/eap-coolstore-monolith/commits/quarkus-migration/src/main/java/com/redhat/coolstore/service/OrderServiceMDB.java"
   ]
  },
  {
   "cell_type": "code",
   "execution_count": null,
   "metadata": {},
   "outputs": [],
   "source": [
    "# Playing around to learn the library\n",
    "from git import Repo\n",
    "\n",
    "example_git_path = \"../data/coolstuff-quarkus\"\n",
    "example_file = \"src/main/java/com/redhat/coolstore/service/OrderServiceMDB.java\"\n",
    "\n",
    "# We want to find the commits associated to a specific file in the Git Repo\n",
    "repo = Repo.init(example_git_path)\n",
    "commits_for_file_generator = repo.iter_commits(all=True, max_count=10, paths=example_file)\n",
    "commits_for_file = list(commits_for_file_generator)\n",
    "print(f\"{example_file} has {len(commits_for_file)} commits associated\")\n",
    "print(f\"{commits_for_file}\")"
   ]
  },
  {
   "cell_type": "markdown",
   "metadata": {},
   "source": [
    "In our example for the given file:\n",
    "* latest commit is in commits_for_file[0]\n",
    "* original commit is in commits_for_file[1]"
   ]
  },
  {
   "cell_type": "code",
   "execution_count": null,
   "metadata": {},
   "outputs": [],
   "source": [
    "print(f\"The last commit on the file `{example_file}` is `{commits_for_file[0]}`\")\n",
    "print(commits_for_file[0].stats.files[example_file])"
   ]
  },
  {
   "cell_type": "code",
   "execution_count": null,
   "metadata": {},
   "outputs": [],
   "source": [
    "print(f\"The original commit on the file `{example_file}` is `{commits_for_file[1]}`\")\n",
    "print(commits_for_file[1].stats.files[example_file])"
   ]
  },
  {
   "cell_type": "markdown",
   "metadata": {},
   "source": [
    "Lets look at the actual contents of the example file in git for it's latest commit"
   ]
  },
  {
   "cell_type": "code",
   "execution_count": null,
   "metadata": {},
   "outputs": [],
   "source": [
    "original_tree = repo.tree(commits_for_file[1])\n",
    "updated_tree = repo.tree(commits_for_file[0])\n",
    "\n",
    "blob = updated_tree[example_file]\n",
    "print(f\"Contents of {example_file} at HEAD\")\n",
    "print(f\"\\n---HEAD---\")\n",
    "print(blob.data_stream.read().decode())\n",
    "print(f\"\\n-----\\n\")"
   ]
  },
  {
   "cell_type": "markdown",
   "metadata": {},
   "source": [
    "Exploring some error behaviors\n"
   ]
  },
  {
   "cell_type": "code",
   "execution_count": 13,
   "metadata": {},
   "outputs": [
    {
     "name": "stdout",
     "output_type": "stream",
     "text": [
      "Repo is <git.repo.base.Repo '/Users/jmatthews/git/jwmatthews/kyma_poc/nbs/bad_path/.git'>\n",
      "We caught Bad Name: Ref 'bad_id' did not resolve to an object\n"
     ]
    }
   ],
   "source": [
    "from git import BadName \n",
    "\n",
    "try:\n",
    "    repo.commit(\"bad_id\")\n",
    "except BadName as e:\n",
    "    print(f\"We caught Bad Name: {e}\") "
   ]
  },
  {
   "cell_type": "markdown",
   "metadata": {},
   "source": [
    "We will create a class next we can reuse to get the diff for a given file"
   ]
  },
  {
   "cell_type": "code",
   "execution_count": 15,
   "metadata": {},
   "outputs": [],
   "source": [
    "#| default_exp scm\n",
    "#| export\n",
    "\n",
    "from git import BadName, Repo\n",
    "\n",
    "class GitDiff:\n",
    "    def __init__(self, repo_path):\n",
    "        self.repo_path = repo_path\n",
    "        self.repo = Repo(self.repo_path) \n",
    "\n",
    "    def get_patch(self, start_commit_id, end_commit_id=\"HEAD\"):\n",
    "        # If either commit_id is not valid, this will raise a BadName exception\n",
    "        start_commit = self.repo.commit(start_commit_id)\n",
    "        end_commit = self.repo.commit(end_commit_id)\n",
    "        return start_commit.diff(end_commit_id, create_patch=True) \n",
    "        \n",
    "    def get_patch_for_file(self, start_commit_id, end_commit_id, file_path):\n",
    "        diff_indexes = self.get_patch(start_commit_id, end_commit_id)\n",
    "        # We need to search through the indexes to find the diff for our file_path\n",
    "        patch = None\n",
    "        for diff in diff_indexes:\n",
    "            print(f\"'{file_path}' '{diff.a_path}' '{diff.b_path}' \")\n",
    "            if diff.a_path == file_path or diff.b_path == file_path:\n",
    "                print(\"Found match\")\n",
    "                patch = diff.diff\n",
    "                break\n",
    "        return patch\n"
   ]
  },
  {
   "cell_type": "code",
   "execution_count": 18,
   "metadata": {},
   "outputs": [
    {
     "name": "stdout",
     "output_type": "stream",
     "text": [
      "'src/main/java/com/redhat/coolstore/service/OrderServiceMDB.java' 'None' '.github/workflows/main_clustertesting(dev).yml' \n",
      "'src/main/java/com/redhat/coolstore/service/OrderServiceMDB.java' 'None' '.vscode/settings.json' \n",
      "'src/main/java/com/redhat/coolstore/service/OrderServiceMDB.java' 'README.md' 'README.md' \n",
      "'src/main/java/com/redhat/coolstore/service/OrderServiceMDB.java' 'pom.xml' 'pom.xml' \n",
      "'src/main/java/com/redhat/coolstore/service/OrderServiceMDB.java' 'None' 'realm-export.json' \n",
      "'src/main/java/com/redhat/coolstore/service/OrderServiceMDB.java' 'src/main/java/com/redhat/coolstore/model/CatalogItemEntity.java' 'src/main/java/com/redhat/coolstore/model/CatalogItemEntity.java' \n",
      "'src/main/java/com/redhat/coolstore/service/OrderServiceMDB.java' 'src/main/java/com/redhat/coolstore/model/InventoryEntity.java' 'src/main/java/com/redhat/coolstore/model/InventoryEntity.java' \n",
      "'src/main/java/com/redhat/coolstore/service/OrderServiceMDB.java' 'src/main/java/com/redhat/coolstore/model/Order.java' 'src/main/java/com/redhat/coolstore/model/Order.java' \n",
      "'src/main/java/com/redhat/coolstore/service/OrderServiceMDB.java' 'src/main/java/com/redhat/coolstore/model/OrderItem.java' 'src/main/java/com/redhat/coolstore/model/OrderItem.java' \n",
      "'src/main/java/com/redhat/coolstore/service/OrderServiceMDB.java' 'src/main/java/com/redhat/coolstore/model/ShoppingCart.java' 'src/main/java/com/redhat/coolstore/model/ShoppingCart.java' \n",
      "'src/main/java/com/redhat/coolstore/service/OrderServiceMDB.java' 'src/main/java/com/redhat/coolstore/rest/CartEndpoint.java' 'src/main/java/com/redhat/coolstore/rest/CartEndpoint.java' \n",
      "'src/main/java/com/redhat/coolstore/service/OrderServiceMDB.java' 'src/main/java/com/redhat/coolstore/rest/OrderEndpoint.java' 'src/main/java/com/redhat/coolstore/rest/OrderEndpoint.java' \n",
      "'src/main/java/com/redhat/coolstore/service/OrderServiceMDB.java' 'src/main/java/com/redhat/coolstore/rest/ProductEndpoint.java' 'src/main/java/com/redhat/coolstore/rest/ProductEndpoint.java' \n",
      "'src/main/java/com/redhat/coolstore/service/OrderServiceMDB.java' 'src/main/java/com/redhat/coolstore/rest/RestApplication.java' 'src/main/java/com/redhat/coolstore/rest/RestApplication.java' \n",
      "'src/main/java/com/redhat/coolstore/service/OrderServiceMDB.java' 'None' 'src/main/java/com/redhat/coolstore/rest/User.java' \n",
      "'src/main/java/com/redhat/coolstore/service/OrderServiceMDB.java' 'src/main/java/com/redhat/coolstore/service/CatalogService.java' 'src/main/java/com/redhat/coolstore/service/CatalogService.java' \n",
      "'src/main/java/com/redhat/coolstore/service/OrderServiceMDB.java' 'src/main/java/com/redhat/coolstore/service/InventoryNotificationMDB.java' 'src/main/java/com/redhat/coolstore/service/InventoryNotificationMDB.java' \n",
      "'src/main/java/com/redhat/coolstore/service/OrderServiceMDB.java' 'src/main/java/com/redhat/coolstore/service/OrderService.java' 'src/main/java/com/redhat/coolstore/service/OrderService.java' \n",
      "'src/main/java/com/redhat/coolstore/service/OrderServiceMDB.java' 'src/main/java/com/redhat/coolstore/service/OrderServiceMDB.java' 'src/main/java/com/redhat/coolstore/service/OrderServiceMDB.java' \n",
      "Found match\n",
      "Patch for src/main/java/com/redhat/coolstore/service/OrderServiceMDB.java between 6322db01226ef4a561244ce90a5df946b163f7ba and 9fd5a29585234b32cdd81cea71d71408760c489b:\n",
      "@@ -1,22 +1,20 @@\n",
      " package com.redhat.coolstore.service;\n",
      " \n",
      "-import javax.ejb.ActivationConfigProperty;\n",
      "-import javax.ejb.MessageDriven;\n",
      "-import javax.inject.Inject;\n",
      "-import javax.jms.JMSException;\n",
      "-import javax.jms.Message;\n",
      "-import javax.jms.MessageListener;\n",
      "-import javax.jms.TextMessage;\n",
      "+// import javax.ejb.ActivationConfigProperty;\n",
      "+// import javax.ejb.MessageDriven;\n",
      "+import jakarta.inject.Inject;\n",
      "+import jakarta.transaction.Transactional;\n",
      "+\n",
      "+import org.eclipse.microprofile.reactive.messaging.Incoming;\n",
      " \n",
      " import com.redhat.coolstore.model.Order;\n",
      " import com.redhat.coolstore.utils.Transformers;\n",
      "-import weblogic.i18n.logging.NonCatalogLogger;\n",
      " \n",
      "-@MessageDriven(name = \"OrderServiceMDB\", activationConfig = {\n",
      "-\t@ActivationConfigProperty(propertyName = \"destinationLookup\", propertyValue = \"topic/orders\"),\n",
      "-\t@ActivationConfigProperty(propertyName = \"destinationType\", propertyValue = \"javax.jms.Topic\"),\n",
      "-\t@ActivationConfigProperty(propertyName = \"acknowledgeMode\", propertyValue = \"Auto-acknowledge\")})\n",
      "-public class OrderServiceMDB implements MessageListener { \n",
      "+import io.smallrye.reactive.messaging.annotations.Blocking;\n",
      "+import jakarta.enterprise.context.ApplicationScoped;\n",
      "+\n",
      "+@ApplicationScoped\n",
      "+public class OrderServiceMDB {\n",
      " \n",
      " \t@Inject\n",
      " \tOrderService orderService;\n",
      "@@ -24,27 +22,18 @@ public class OrderServiceMDB implements MessageListener {\n",
      " \t@Inject\n",
      " \tCatalogService catalogService;\n",
      " \n",
      "-\tprivate NonCatalogLogger log = new NonCatalogLogger(OrderServiceMDB.class.getName());\n",
      "-\n",
      "-\t@Override\n",
      "-\tpublic void onMessage(Message rcvMessage) {\n",
      "+\t@Incoming(\"orders-incoming\")\n",
      "+\t@Blocking\n",
      "+\t@Transactional\n",
      "+\tpublic void onMessage(String orderStr) {\n",
      " \t\tSystem.out.println(\"\\nMessage recd !\");\n",
      "-\t\tTextMessage msg = null;\n",
      "-\t\ttry {\n",
      "-\t\t\t\tif (rcvMessage instanceof TextMessage) {\n",
      "-\t\t\t\t\t\tmsg = (TextMessage) rcvMessage;\n",
      "-\t\t\t\t\t\tString orderStr = msg.getBody(String.class);\n",
      "-\t\t\t\t\t\tSystem.out.println(\"Received order: \" + orderStr);\n",
      "-\t\t\t\t\t\tOrder order = Transformers.jsonToOrder(orderStr);\n",
      "-\t\t\t\t\t\tSystem.out.println(\"Order object is \" + order);\n",
      "-\t\t\t\t\t\torderService.save(order);\n",
      "-\t\t\t\t\t\torder.getItemList().forEach(orderItem -> {\n",
      "-\t\t\t\t\t\t\tcatalogService.updateInventoryItems(orderItem.getProductId(), orderItem.getQuantity());\n",
      "-\t\t\t\t\t\t});\n",
      "-\t\t\t\t}\n",
      "-\t\t} catch (JMSException e) {\n",
      "-\t\t\tthrow new RuntimeException(e);\n",
      "-\t\t}\n",
      "+\t\tSystem.out.println(\"Received order: \" + orderStr);\n",
      "+\t\tOrder order = Transformers.jsonToOrder(orderStr);\n",
      "+\t\tSystem.out.println(\"Order object is \" + order);\n",
      "+\t\torderService.save(order);\n",
      "+\t\torder.getItemList().forEach(orderItem -> {\n",
      "+\t\t\tcatalogService.updateInventoryItems(orderItem.getProductId(), orderItem.getQuantity());\n",
      "+\t\t});\n",
      " \t}\n",
      " \n",
      " }\n",
      "\\ No newline at end of file\n",
      "\n",
      "Changes: 22 additions, 33 deletions\n"
     ]
    }
   ],
   "source": [
    "gd = GitDiff(example_git_path)\n",
    "#Remember that the original state of the file is in the second commit\n",
    "#The current state of the file is in the first commit\n",
    "patch = gd.get_patch_for_file(commits_for_file[1].hexsha, commits_for_file[0].hexsha, example_file)\n",
    "\n",
    "if patch:\n",
    "    sPatch = patch.decode('utf-8')\n",
    "    print(f'Patch for {example_file} between {commits_for_file[1].hexsha} and {commits_for_file[0].hexsha}:\\n{sPatch}')\n",
    "    changed_lines = sPatch.split('\\n')[2:]\n",
    "    additions = sum(1 for line in changed_lines if line.startswith('+'))\n",
    "    deletions = sum(1 for line in changed_lines if line.startswith('-'))\n",
    "    print(f'Changes: {additions} additions, {deletions} deletions')\n",
    "    # For the example we chose, there are only 2 commits\n",
    "    # so we can assume that the diff from latest commit and \n",
    "    # first commit will match from our diff and what is in the \n",
    "    # assertion below\n",
    "    assert additions == commits_for_file[0].stats.files[example_file]['insertions']\n",
    "    assert deletions == commits_for_file[0].stats.files[example_file]['deletions']\n",
    "else:\n",
    "    print(f'No changes in {example_file} between {commits_for_file[1].hexsha} and {commits_for_file[0].hexsha}')\n"
   ]
  },
  {
   "cell_type": "markdown",
   "metadata": {},
   "source": []
  }
 ],
 "metadata": {
  "kernelspec": {
   "display_name": "env",
   "language": "python",
   "name": "python3"
  },
  "language_info": {
   "codemirror_mode": {
    "name": "ipython",
    "version": 3
   },
   "file_extension": ".py",
   "mimetype": "text/x-python",
   "name": "python",
   "nbconvert_exporter": "python",
   "pygments_lexer": "ipython3",
   "version": "3.11.6"
  }
 },
 "nbformat": 4,
 "nbformat_minor": 2
}
