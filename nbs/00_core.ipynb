{
 "cells": [
  {
   "cell_type": "markdown",
   "metadata": {},
   "source": [
    "# core\n",
    "\n",
    "> Example chain to convert a snippet of Java EE code to Quarkus"
   ]
  },
  {
   "cell_type": "code",
   "execution_count": 1,
   "metadata": {},
   "outputs": [],
   "source": [
    "#| default_exp core"
   ]
  },
  {
   "cell_type": "code",
   "execution_count": 2,
   "metadata": {},
   "outputs": [],
   "source": [
    "#| hide\n",
    "from nbdev.showdoc import *"
   ]
  },
  {
   "cell_type": "code",
   "execution_count": 3,
   "metadata": {},
   "outputs": [],
   "source": [
    "#| export\n",
    "from langchain.chat_models import ChatOpenAI\n",
    "from langchain.prompts import ChatPromptTemplate, SystemMessagePromptTemplate, HumanMessagePromptTemplate\n",
    "from langchain.schema.output_parser import StrOutputParser\n",
    "from langchain_experimental.utilities.python import PythonREPL\n",
    "\n",
    "template = \"\"\"You are an excellent enterprise architect who has an extensive\n",
    "background in helping companies rewrite their legacy Java EE applications to Quarkus.\n",
    "\n",
    "You will read a user's problem along with examples of how they have solved a problem in the past.\n",
    "The past examples will be presented in format of a summary of the issue along with source code of \n",
    "that point in time along with the updated source code when the problem is fixed\n",
    "\n",
    "You will then write Quarkus code to solve their current problem.\n",
    "You will output the results in the form a diff which can be applied via 'git apply'.\n",
    "\n",
    "Example #1 Issue: {example1_issue}\n",
    "\n",
    "Example #1 Original Source Code:\n",
    "{example1_original_code}\n",
    "\n",
    "Example #1 Solved Source Code:\n",
    "{example1_solved_code}\n",
    "\n",
    "Current Issue: \n",
    "{current_issue}\n",
    "\n",
    "Current Issue Original Source Code: \n",
    "{current_issue_original_code}\n",
    "\n",
    "Your job is to look at the 'Current Issue' and the 'Current Issue Original Source Code' \n",
    "and rewrite the 'Current Issue Original Source Code' so the 'Current Issue' is solved \n",
    "in a manner similar to how 'Example #1 Original Source Code' was rewritten to \n",
    "'Example #1 Solved Source Code' \n",
    "\n",
    "Think through the changes you will make and explain each step of the process.\n",
    "If you are unsure of what changes is needed please state you are unsure and ask \n",
    "for clarification to help you.\n",
    "\n",
    "When you are done explaining the reasoning for each change, write the updated \n",
    "Quarkus source code in the form of a diff which can be applied via 'git apply' \n",
    "in Markdown format, e.g.:\n",
    "\n",
    "```java\n",
    "....\n",
    "```\"\"\"\n",
    "\n",
    "def _sanitize_output(text: str):\n",
    "    return text\n",
    "    #_, after = text.split(\"```java\")\n",
    "    #return after.split(\"```\")[0]\n",
    "\n",
    "prompt = ChatPromptTemplate.from_template(template)\n",
    "model = ChatOpenAI()\n",
    "\n",
    "chain = prompt | model | StrOutputParser() | _sanitize_output \n"
   ]
  },
  {
   "cell_type": "markdown",
   "metadata": {},
   "source": [
    "Turn debug on so we can see more of what langchain is doing"
   ]
  },
  {
   "cell_type": "code",
   "execution_count": 4,
   "metadata": {},
   "outputs": [],
   "source": [
    "from langchain.globals import set_debug\n",
    "set_debug(False)"
   ]
  },
  {
   "cell_type": "markdown",
   "metadata": {},
   "source": [
    "Let's get an example together from a Java EE app that has been migrated to Quarkus\n",
    "\n",
    "We will be using the repo from:  \n",
    "* https://github.com/mathianasj/eap-coolstore-monolith/tree/quarkus-migration\n",
    "\n",
    "There is a script to help with fetching the repo at: \n",
    "* https://github.com/jwmatthews/kyma_poc/blob/main/data/fetch.sh\n"
   ]
  },
  {
   "cell_type": "code",
   "execution_count": 5,
   "metadata": {},
   "outputs": [],
   "source": [
    "from kyma_poc.scm import GitDiff\n",
    "\n",
    "# We are taking 2 similar files in this repo and will using them as an example \n",
    "# to see quality of diff we can get from the LLM\n",
    "example_git_path = \"../data/coolstuff-quarkus\"\n",
    "gd = GitDiff(example_git_path)\n",
    "\n",
    "example_1_file = \"src/main/java/com/redhat/coolstore/service/OrderServiceMDB.java\"\n",
    "current_file = \"src/main/java/com/redhat/coolstore/service/InventoryNotificationMDB.java\"\n",
    "\n",
    "example_1_file_commits = gd.get_commits_for_file(example_1_file)\n",
    "current_file_commits = gd.get_commits_for_file(current_file)\n",
    "\n",
    "example_1_original = gd.get_file_contents(example_1_file, example_1_file_commits[-1])\n",
    "example_1_solved = gd.get_file_contents(example_1_file, example_1_file_commits[0])\n",
    "current_original = gd.get_file_contents(current_file, example_1_file_commits[-1])\n",
    "\n",
    "expected_diff = gd.get_patch_for_file(example_1_file_commits[-1], example_1_file_commits[0], example_1_file)\n",
    "\n"
   ]
  },
  {
   "cell_type": "markdown",
   "metadata": {},
   "source": [
    "Lets run the chain and see it work"
   ]
  },
  {
   "cell_type": "code",
   "execution_count": 6,
   "metadata": {},
   "outputs": [
    {
     "name": "stdout",
     "output_type": "stream",
     "text": [
      "The current issue is that the original source code is using Java EE APIs and is not compatible with Quarkus. To solve this issue, we need to rewrite the source code using Quarkus APIs.\n",
      "\n",
      "Here are the steps to solve the current issue:\n",
      "\n",
      "1. Remove the import statements for Java EE APIs:\n",
      "   - `javax.jms.*`\n",
      "   - `javax.naming.*`\n",
      "   - `javax.rmi.PortableRemoteObject`\n",
      "   - `weblogic.i18n.logging.NonCatalogLogger`\n",
      "\n",
      "2. Update the class declaration to use the `jakarta` package instead of `javax`:\n",
      "   - Change `public class InventoryNotificationMDB` to `public class InventoryNotificationMDB`\n",
      "\n",
      "3. Remove the `init()` and `close()` methods as they are not needed in Quarkus.\n",
      "\n",
      "4. Remove the `private final static` modifier from the constants `JNDI_FACTORY`, `JMS_FACTORY`, and `TOPIC` as they are not needed in Quarkus.\n",
      "\n",
      "5. Replace the `@Inject` annotation with `@Autowired` for the `CatalogService` and `Logger` fields.\n",
      "\n",
      "6. Replace the `onMessage()` method signature with the Quarkus equivalent. The method should accept a `String` parameter and be annotated with `@Incoming(\"orders-incoming\")`.\n",
      "\n",
      "7. Replace the `System.out.println()` statements with logging statements using the `Logger` field.\n",
      "\n",
      "8. Rewrite the logic in the `onMessage()` method to use Quarkus-compatible APIs. This includes removing the JMS-related code and replacing it with the necessary logic to process the order.\n",
      "\n",
      "Here is the updated Quarkus source code in the form of a diff:\n",
      "\n",
      "```java\n",
      "package com.redhat.coolstore.service;\n",
      "\n",
      "import com.redhat.coolstore.model.Order;\n",
      "import com.redhat.coolstore.utils.Transformers;\n",
      "import jakarta.inject.Inject;\n",
      "import org.jboss.logging.Logger;\n",
      "import org.eclipse.microprofile.reactive.messaging.Incoming;\n",
      "import org.springframework.beans.factory.annotation.Autowired;\n",
      "import org.springframework.stereotype.Service;\n",
      "\n",
      "@Service\n",
      "public class InventoryNotificationMDB {\n",
      "\n",
      "    private static final int LOW_THRESHOLD = 50;\n",
      "\n",
      "    @Autowired\n",
      "    private CatalogService catalogService;\n",
      "\n",
      "    @Autowired\n",
      "    private Logger log;\n",
      "\n",
      "    @Incoming(\"orders-incoming\")\n",
      "    public void onMessage(String orderStr) {\n",
      "        log.info(\"Received message inventory\");\n",
      "        Order order = Transformers.jsonToOrder(orderStr);\n",
      "        order.getItemList().forEach(orderItem -> {\n",
      "            int old_quantity = catalogService.getCatalogItemById(orderItem.getProductId()).getInventory().getQuantity();\n",
      "            int new_quantity = old_quantity - orderItem.getQuantity();\n",
      "            if (new_quantity < LOW_THRESHOLD) {\n",
      "                log.info(\"Inventory for item \" + orderItem.getProductId() + \" is below threshold (\" + LOW_THRESHOLD + \"), contact supplier!\");\n",
      "            } else {\n",
      "                orderItem.setQuantity(new_quantity);\n",
      "            }\n",
      "        });\n",
      "    }\n",
      "}\n",
      "```\n",
      "\n",
      "Please let me know if you have any questions or need further clarification.\n"
     ]
    }
   ],
   "source": [
    "result = chain.invoke({\n",
    "    \"example1_issue\": \"Something\",\n",
    "    \"example1_original_code\": example_1_original,\n",
    "    \"example1_solved_code\": example_1_solved,\n",
    "    \"current_issue\": \"Something\",\n",
    "    \"current_issue_original_code\": current_original\n",
    "    })\n",
    "\n",
    "print(f\"{result}\")"
   ]
  },
  {
   "cell_type": "code",
   "execution_count": 7,
   "metadata": {},
   "outputs": [
    {
     "data": {
      "text/plain": [
       "<function nbdev.doclinks.nbdev_export(path: str = None, procs: <tokens naming the export processors to use.> = 'black_format', *, symlinks: bool = False, file_glob: str = '*.ipynb', file_re: str = None, folder_re: str = None, skip_file_glob: str = None, skip_file_re: str = '^[_.]', skip_folder_re: str = '^[_.]')>"
      ]
     },
     "execution_count": 7,
     "metadata": {},
     "output_type": "execute_result"
    }
   ],
   "source": [
    "#| hide\n",
    "import nbdev; nbdev.nbdev_export"
   ]
  }
 ],
 "metadata": {
  "kernelspec": {
   "display_name": "python3",
   "language": "python",
   "name": "python3"
  },
  "language_info": {
   "codemirror_mode": {
    "name": "ipython",
    "version": 3
   },
   "file_extension": ".py",
   "mimetype": "text/x-python",
   "name": "python",
   "nbconvert_exporter": "python",
   "pygments_lexer": "ipython3",
   "version": "3.11.6"
  }
 },
 "nbformat": 4,
 "nbformat_minor": 4
}
