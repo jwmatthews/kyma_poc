{
 "cells": [
  {
   "cell_type": "markdown",
   "metadata": {},
   "source": [
    "We are importing an analysis run from 'coolstuff-javaee' and will generate a diff per violation.  This is not an exhaustive run of per incident, this will only create a diff for 1st incident of a violation, it uses the 2nd incident as an example of a solved problem from the 'quarkus' solution\n",
    "\n",
    "Running against:\n",
    "- `git clone https://github.com/deewhyweb/eap-coolstore-monolith.git coolstuff-javaee`\n",
    "\n"
   ]
  },
  {
   "cell_type": "code",
   "execution_count": 1,
   "metadata": {},
   "outputs": [
    {
     "name": "stdout",
     "output_type": "stream",
     "text": [
      "Skipping eap7/websphere as it is not in ['quarkus/springboot']\n",
      "Skipping eap8/eap7 as it is not in ['quarkus/springboot']\n",
      "Skipping openshift as it is not in ['quarkus/springboot']\n",
      "Processing quarkus/springboot quarkus_springboot\n",
      "Skipping cdi-to-quarkus-00030 as it is not in ['cdi-to-quarkus-00040', 'cdi-to-quarkus-00050']\n",
      "Processing quarkus/springboot cdi-to-quarkus-00040 1\n",
      "Loading template from /Users/jmatthews/git/jwmatthews/kyma_poc/kyma_poc/data/templates/template_02.txt\n",
      "Processing quarkus/springboot cdi-to-quarkus-00050 2\n",
      "Loading template from /Users/jmatthews/git/jwmatthews/kyma_poc/kyma_poc/data/templates/template_02.txt\n"
     ]
    }
   ],
   "source": [
    "from kyma_poc.result import LLMResult\n",
    "\n",
    "## We are expecting\n",
    "# . 1 repo that has 2 branches,   'initial' and 'solved' \n",
    "# . initial = 'main' \n",
    "# . solved = 'quarkus-migration'\n",
    "example_solved_git_path = \"../data/coolstuff-quarkus\"\n",
    "example_solved_branch = \"quarkus-migration\"\n",
    "example_initial_branch = \"main\"\n",
    "\n",
    "path_to_report = '../data/example_reports/coolstuff-javaee/output.yaml'\n",
    "output_dir = './example/reports_B/coolstuff-javaee'\n",
    " \n",
    "model_name = \"gpt-3.5-turbo-16k\" \n",
    "#model_name=\"gpt-4-1106-preview\"\n",
    "\n",
    "\n",
    "llmResult = LLMResult(example_solved_git_path, example_initial_branch, example_solved_branch)\n",
    "llmResult.parse_report(path_to_report)\n",
    "limit_to_rulesets = ['quarkus/springboot']\n",
    "limit_to_violations = ['cdi-to-quarkus-00040', 'cdi-to-quarkus-00050']\n",
    "llmResult.process(output_dir, model_name, limit_to_rulesets, limit_to_violations)\n",
    "#llmResult.process(output_dir, model_name, limit_to_rulesets)"
   ]
  }
 ],
 "metadata": {
  "kernelspec": {
   "display_name": "env",
   "language": "python",
   "name": "python3"
  },
  "language_info": {
   "codemirror_mode": {
    "name": "ipython",
    "version": 3
   },
   "file_extension": ".py",
   "mimetype": "text/x-python",
   "name": "python",
   "nbconvert_exporter": "python",
   "pygments_lexer": "ipython3",
   "version": "3.11.6"
  }
 },
 "nbformat": 4,
 "nbformat_minor": 2
}
